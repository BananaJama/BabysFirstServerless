{
 "cells": [
  {
   "cell_type": "markdown",
   "metadata": {},
   "source": [
    "# Invoking Rest Method"
   ]
  },
  {
   "cell_type": "markdown",
   "metadata": {},
   "source": [
    "## Generic Use Example"
   ]
  },
  {
   "cell_type": "code",
   "execution_count": 1,
   "metadata": {},
   "outputs": [
    {
     "data": {
      "text/html": [
       "<pre>&lt;!DOCTYPE html&gt;\n",
       "&lt;html lang=&quot;en&quot;&gt;\n",
       "&lt;head&gt;\n",
       "&lt;meta charset=&quot;utf-8&quot;&gt;\n",
       "&lt;meta http-equiv=&quot;X-UA-Compatible&quot; content=&quot;IE=edge&quot;&gt;\n",
       "&lt;meta name=&quot;viewport&quot; content=&quot;width=device-width, initial-scale=1, minimum-scale=1&quot;&gt;\n",
       "&lt;meta name=&quot;description&quot; content=&quot;The largest collection of dad jokes on the internet&quot; /&gt;\n",
       "&lt;meta name=&quot;author&quot; content=&quot;C653 Labs&quot; /&gt;\n",
       "&lt;meta name=&quot;keywords&quot; content=&quot;dad,joke,funny,slack,alexa&quot; /&gt;\n",
       "&lt;meta property=&quot;og:site_name&quot; content=&quot;icanhazdadjoke&quot; /&gt;\n",
       "&lt;meta property=&quot;og:title&quot; content=&quot;icanhazdadjoke&quot; /&gt;\n",
       "&lt;meta property=&quot;og:type&quot; content=&quot;website&quot; /&gt;\n",
       "&lt;meta property=&quot;og:url&quot; content=&quot;https://icanhazdadjoke.com/j/UfqHY8EQClb&quot; /&gt;\n",
       "&lt;meta property=&quot;og:description&quot; content=&quot;I wear a stethoscope so that in a medical emergency I can teach people a valuable lesson about assumptions.&quot; /&gt;\n",
       "&lt;meta property=&quot;og:image:url&quot; content=&quot;https://icanhazdadjoke.com/j/UfqHY8EQClb.png&quot; /&gt;\n",
       "&lt;meta property=&quot;og:image:secure_url&quot; content=&quot;https://icanhazdadjoke.com/j/UfqHY8EQClb.png&quot; /&gt;\n",
       "&lt;meta property=&quot;og:image:secure_url&quot; content=&quot;https://icanhazdadjoke.com/static/smile.png&quot; /&gt;\n",
       "&lt;meta property=&quot;og:image:type&quot; content=&quot;image/png&quot; /&gt;\n",
       "&lt;meta name=&quot;twitter:card&quot; content=&quot;summary&quot;&gt;\n",
       "&lt;meta name=&quot;twitter:site&quot; content=&quot;@icanhazdadjoke&quot;&gt;\n",
       "&lt;meta name=&quot;twitter:title&quot; content=&quot;icanhzdadjoke&quot;&gt;\n",
       "&lt;meta name=&quot;twitter:description&quot; content=&quot;I wear a stethoscope so that in a medical emergency I can teach people a valuable lesson about assumptions.&quot;&gt;\n",
       "&lt;meta name=&quot;twitter:image&quot; content=&quot;https://icanhazdadjoke.com/static/smile.png&quot;&gt;\n",
       "&lt;meta name=&quot;twitter:url&quot; content=&quot;https://icanhazdadjoke.com/j/UfqHY8EQClb&quot; /&gt;\n",
       "&lt;link rel=&quot;canonical&quot; href=&quot;https://icanhazdadjoke.com/j/UfqHY8EQClb&quot;&gt;\n",
       "&lt;link rel=&quot;amphtml&quot; href=&quot;https://icanhazdadjoke.com/j/UfqHY8EQClb/amp&quot;&gt;\n",
       "&lt;title&gt;icanhazdadjoke&lt;/title&gt;\n",
       "&lt;link rel=&quot;apple-touch-icon&quot; sizes=&quot;180x180&quot; href=&quot;/static/apple-touch-icon.png&quot;&gt;\n",
       "&lt;link rel=&quot;icon&quot; type=&quot;image/png&quot; href=&quot;/static/favicon-32x32.png&quot; sizes=&quot;32x32&quot;&gt;\n",
       "&lt;link rel=&quot;icon&quot; type=&quot;image/png&quot; href=&quot;/static/favicon-16x16.png&quot; sizes=&quot;16x16&quot;&gt;\n",
       "&lt;link rel=&quot;manifest&quot; href=&quot;/static/manifest.json&quot;&gt;\n",
       "&lt;link rel=&quot;mask-icon&quot; href=&quot;/static/safari-pinned-tab.svg&quot; color=&quot;#1fc8db&quot;&gt;\n",
       "&lt;link rel=&quot;shortcut icon&quot; href=&quot;/static/favicon.ico&quot;&gt;\n",
       "&lt;meta name=&quot;msapplication-config&quot; content=&quot;/static/browserconfig.xml&quot;&gt;\n",
       "&lt;meta name=&quot;theme-color&quot; content=&quot;#ffffff&quot;&gt;\n",
       "&lt;link rel=&quot;stylesheet&quot; href=&quot;/static/dist/style.css?55f4ea12&quot;&gt;\n",
       "&lt;script type=&quot;application/ld+json&quot;&gt;\n",
       "      {\n",
       "        &quot;@context&quot;: &quot;http://schema.org&quot;,\n",
       "        &quot;@type&quot;: &quot;WebSite&quot;,\n",
       "        &quot;url&quot;: &quot;https://icanhazdadjoke.com/&quot;,\n",
       "        &quot;name&quot;: &quot;icanhazdadjoke&quot;,\n",
       "        &quot;description&quot;: &quot;The largest collection of dad jokes on the internet&quot;,\n",
       "        &quot;potentialAction&quot;: {\n",
       "          &quot;@type&quot;: &quot;SearchAction&quot;,\n",
       "          &quot;target&quot;: &quot;https://icanhazdadjoke.com/search?term={search_term_string}&quot;,\n",
       "          &quot;query-input&quot;: &quot;required name=search_term_string&quot;\n",
       "        }\n",
       "      }\n",
       "    &lt;/script&gt;\n",
       "&lt;script type=&quot;application/ld+json&quot;&gt;\n",
       "      {\n",
       "        &quot;@context&quot;: &quot;http://schema.org&quot;,\n",
       "        &quot;@type&quot;: &quot;Organization&quot;,\n",
       "        &quot;url&quot;: &quot;https://icanhazdadjoke.com/&quot;,\n",
       "        &quot;logo&quot;: &quot;https://icanhazdadjoke.com/static/smile.png&quot;,\n",
       "        &quot;name&quot;: &quot;icanhazdadjoke&quot;,\n",
       "        &quot;description&quot;: &quot;The largest collection of dad jokes on the internet&quot;,\n",
       "        &quot;email&quot;: &quot;support@icanhazdadjoke.com&quot;\n",
       "      }\n",
       "    &lt;/script&gt;\n",
       "&lt;script async src=&quot;//pagead2.googlesyndication.com/pagead/js/adsbygoogle.js&quot;&gt;&lt;/script&gt;\n",
       "&lt;script&gt;\n",
       "      (adsbygoogle = window.adsbygoogle || []).push({google_ad_client: &quot;ca-pub-3200991035275362&quot;, enable_page_level_ads: true});\n",
       "    &lt;/script&gt;\n",
       "&lt;/head&gt;\n",
       "&lt;body&gt;\n",
       "&lt;nav class=&quot;nav has-shadow&quot;&gt;\n",
       "&lt;div class=&quot;container&quot;&gt;\n",
       "&lt;div class=&quot;nav-left&quot;&gt;\n",
       "&lt;a class=&quot;nav-item is-brand&quot; href=&quot;/&quot;&gt;\n",
       "&lt;img src=&quot;/static/smile.svg&quot; alt=&quot;icanhazdadjoke logo&quot; /&gt;\n",
       "&lt;span class=&quot;subtitle pushhalf--left&quot;&gt;\n",
       "icanhazdadjoke\n",
       "&lt;/span&gt;\n",
       "&lt;/a&gt;\n",
       "&lt;/div&gt;\n",
       "&lt;span id=&quot;nav-toggle&quot; class=&quot;nav-toggle&quot;&gt;\n",
       "&lt;span&gt;&lt;/span&gt;\n",
       "&lt;span&gt;&lt;/span&gt;\n",
       "&lt;span&gt;&lt;/span&gt;\n",
       "&lt;/span&gt;\n",
       "&lt;div id=&quot;nav-menu&quot; class=&quot;nav-right nav-menu&quot;&gt;\n",
       "&lt;a class=&quot;nav-item is-tab&quot; href=&quot;/&quot;&gt;\n",
       "&lt;span class=&quot;icon is-small&quot;&gt;\n",
       "&lt;i class=&quot;fa fa-random&quot;&gt;&lt;/i&gt;\n",
       "&lt;/span&gt;\n",
       "&lt;span class=&quot;pushquarter--left&quot;&gt;\n",
       "Random joke\n",
       "&lt;/span&gt;\n",
       "&lt;/a&gt;\n",
       "&lt;a class=&quot;nav-item is-tab&quot; href=&quot;/search&quot;&gt;\n",
       "&lt;span class=&quot;icon is-small&quot;&gt;\n",
       "&lt;i class=&quot;fa fa-search&quot;&gt;&lt;/i&gt;\n",
       "&lt;/span&gt;\n",
       "&lt;span class=&quot;pushquarter--left&quot;&gt;\n",
       "Search jokes\n",
       "&lt;/span&gt;\n",
       "&lt;/a&gt;\n",
       "&lt;a class=&quot;nav-item is-tab&quot; href=&quot;/submit&quot;&gt;\n",
       "&lt;span class=&quot;icon is-small&quot;&gt;\n",
       "&lt;i class=&quot;fa fa-pencil-square-o&quot;&gt;&lt;/i&gt;\n",
       "&lt;/span&gt;\n",
       "&lt;span class=&quot;pushquarter--left&quot;&gt;\n",
       "Submit new joke\n",
       "&lt;/span&gt;\n",
       "&lt;/a&gt;\n",
       "&lt;div class=&quot;nav-item&quot;&gt;\n",
       "&lt;a href=&quot;/slack-add&quot; style=&quot;height:40px; max-width:139px&quot;&gt;\n",
       "&lt;img alt=&quot;Add to Slack&quot; height=&quot;40&quot; width=&quot;139&quot; src=&quot;https://platform.slack-edge.com/img/add_to_slack.png&quot; style=&quot;width:139px; height:40px; max-height: 40px&quot; srcset=&quot;https://platform.slack-edge.com/img/add_to_slack.png 1x, https://platform.slack-edge.com/img/add_to_slack@2x.png 2x&quot; /&gt;\n",
       "&lt;/a&gt;\n",
       "&lt;/div&gt;\n",
       "&lt;div class=&quot;nav-item&quot;&gt;\n",
       "&lt;a class=&quot;button&quot; target=&quot;_blank&quot; href=&quot;https://www.amazon.com/Brett-Langdon-icanhazdadjoke/dp/B01N6CQ3NZ/&quot; style=&quot;background-color: #ffffff; color: #5ebfe4; border-radius: 6px; font-weight: 500; height:40px; width:139px; max-width:139px&quot;&gt;\n",
       "&lt;img src=&quot;/static/alexa-logo.png&quot; style=&quot;margin-left: -0.5em;&quot;&gt;\n",
       "Add to &lt;strong style=&quot;margin-left: 0.25em&quot;&gt;Alexa&lt;/strong&gt;\n",
       "&lt;/a&gt;\n",
       "&lt;/div&gt;\n",
       "&lt;/div&gt;\n",
       "&lt;/div&gt;\n",
       "&lt;/nav&gt;\n",
       "&lt;section class=&quot;section&quot;&gt;\n",
       "&lt;div class=&quot;container&quot;&gt;\n",
       "&lt;div class=&quot;level&quot;&gt;\n",
       "&lt;div class=&quot;level-left&quot;&gt;\n",
       "&lt;div class=&quot;content level-item&quot;&gt;\n",
       "&lt;h1&gt;Random dad joke:&lt;/h1&gt;\n",
       "&lt;/div&gt;\n",
       "&lt;/div&gt;\n",
       "&lt;div class=&quot;level-right&quot;&gt;\n",
       "&lt;a class=&quot;button is-primary level-item&quot; href=&quot;/&quot;&gt;\n",
       "&lt;span class=&quot;icon is-small&quot;&gt;\n",
       "&lt;i class=&quot;fa fa-random&quot;&gt;&lt;/i&gt;\n",
       "&lt;/span&gt;\n",
       "&lt;span&gt;\n",
       "New joke\n",
       "&lt;/span&gt;\n",
       "&lt;/a&gt;\n",
       "&lt;/div&gt;\n",
       "&lt;/div&gt;\n",
       "&lt;div class=&quot;content&quot;&gt;\n",
       "&lt;div class=&quot;card&quot;&gt;\n",
       "&lt;div class=&quot;card-content&quot;&gt;\n",
       "&lt;p class=&quot;subtitle&quot;&gt;I wear a stethoscope so that in a medical emergency I can teach people a valuable lesson about assumptions.&lt;/p&gt;\n",
       "&lt;/div&gt;\n",
       "&lt;footer class=&quot;card-footer&quot;&gt;\n",
       "&lt;a class=&quot;card-footer-item&quot; href=&quot;/j/UfqHY8EQClb&quot;&gt;\n",
       "&lt;span class=&quot;icon is-small&quot;&gt;\n",
       "&lt;i class=&quot;fa fa-chain&quot;&gt;&lt;/i&gt;\n",
       "&lt;/span&gt;\n",
       "&lt;span class=&quot;pushquarter--left&quot;&gt;\n",
       "Permalink\n",
       "&lt;/span&gt;\n",
       "&lt;/a&gt;\n",
       "&lt;a class=&quot;card-footer-item&quot; target=&quot;_blank&quot; href=&quot;https://twitter.com/intent/tweet?url=https://icanhazdadjoke.com%2Fj%2FUfqHY8EQClb%2Famp&amp;text=Check+out+this+%23dadjoke&amp;via=icanhazdadjoke&quot;&gt;\n",
       "&lt;span class=&quot;icon is-small&quot;&gt;\n",
       "&lt;i class=&quot;fa fa-twitter&quot;&gt;&lt;/i&gt;\n",
       "&lt;/span&gt;\n",
       "&lt;span class=&quot;pushquarter--left&quot;&gt;\n",
       "Share on Twitter\n",
       "&lt;/span&gt;\n",
       "&lt;/a&gt;\n",
       "&lt;/footer&gt;\n",
       "&lt;/div&gt;\n",
       "&lt;/div&gt;\n",
       "&lt;div class=&quot;content pushwhole--top&quot;&gt;\n",
       "&lt;ins class=&quot;adsbygoogle&quot; style=&quot;display:block&quot; data-ad-client=&quot;ca-pub-3200991035275362&quot; data-ad-slot=&quot;5324903139&quot; data-ad-format=&quot;auto&quot;&gt;&lt;/ins&gt;\n",
       "&lt;/div&gt;\n",
       "&lt;script&gt;\n",
       "          (adsbygoogle = window.adsbygoogle || []).push({});\n",
       "        &lt;/script&gt;\n",
       "&lt;/div&gt;\n",
       "&lt;/section&gt;\n",
       "&lt;footer class=&quot;footer&quot;&gt;\n",
       "&lt;div class=&quot;container&quot;&gt;\n",
       "&lt;div class=&quot;columns&quot;&gt;\n",
       "&lt;div class=&quot;column is-5&quot;&gt;\n",
       "&lt;div class=&quot;content&quot;&gt;\n",
       "&lt;p&gt;\n",
       "&lt;strong&gt;icanhazdadjoke.com&lt;/strong&gt; by &lt;a href=&quot;https://c653labs.com/&quot;&gt;C653 Labs&lt;/a&gt;.\n",
       "&lt;/p&gt;\n",
       "&lt;p&gt;\n",
       "&lt;i&gt;icanhazdadjoke.com&lt;/i&gt; is the largest selection of dad jokes on the internet.\n",
       "Now supporting many different integrations to ensure you can access the dad jokes that you need wherever you are.\n",
       "&lt;/p&gt;\n",
       "&lt;/div&gt;\n",
       "&lt;/div&gt;\n",
       "&lt;div class=&quot;column is-3&quot;&gt;&lt;/div&gt;\n",
       "&lt;div class=&quot;column is-2&quot;&gt;\n",
       "&lt;aside class=&quot;menu&quot;&gt;\n",
       "&lt;ul class=&quot;menu-list&quot;&gt;\n",
       "&lt;li&gt;&lt;a href=&quot;/cdn-cgi/l/email-protection#aad9dfdadac5d8deeac3c9cbc4c2cbd0cecbcec0c5c1cf84c9c5c7&quot; target=&quot;_blank&quot;&gt;Contact&lt;/a&gt;&lt;/li&gt;\n",
       "&lt;li&gt;&lt;a href=&quot;https://twitter.com/icanhazdadjoke&quot; target=&quot;_blank&quot;&gt;Twitter&lt;/a&gt;&lt;/li&gt;\n",
       "&lt;li&gt;&lt;a href=&quot;https://slack.com/apps/A214NCJF2-icanhazdadjoke&quot; target=&quot;_blank&quot;&gt;Slack app&lt;/a&gt;&lt;/li&gt;\n",
       "&lt;li&gt;&lt;a href=&quot;https://www.amazon.com/Brett-Langdon-icanhazdadjoke/dp/B01N6CQ3NZ/&quot; target=&quot;_blank&quot;&gt;Alexa skill&lt;/a&gt;&lt;/li&gt;\n",
       "&lt;li&gt;&lt;a href=&quot;https://discordapp.com/api/oauth2/authorize?client_id=467365247921946626&amp;permissions=0&amp;scope=bot&quot; target=&quot;_blank&quot;&gt;Discord bot&lt;/a&gt;&lt;/li&gt;\n",
       "&lt;li&gt;&lt;a href=&quot;https://marketplace.atlassian.com/plugins/com.icanhazdadjoke/cloud/overview&quot; target=&quot;_blank&quot;&gt;HipChat plugin&lt;/a&gt;&lt;/li&gt;\n",
       "&lt;li&gt;&lt;a href=&quot;https://twistapp.com/integrations/install/20_901fa9d3df5b8784d3ddc56e&quot; target=&quot;_blank&quot;&gt;Twist integration&lt;/a&gt;&lt;/li&gt;\n",
       "&lt;/ul&gt;\n",
       "&lt;/aside&gt;\n",
       "&lt;/div&gt;\n",
       "&lt;div class=&quot;column is-2&quot;&gt;\n",
       "&lt;aside class=&quot;menu&quot;&gt;\n",
       "&lt;ul class=&quot;menu-list&quot;&gt;\n",
       "&lt;li&gt;&lt;a href=&quot;/about&quot;&gt;About&lt;/a&gt;&lt;/li&gt;\n",
       "&lt;li&gt;&lt;a href=&quot;/api&quot;&gt;API&lt;/a&gt;&lt;/li&gt;\n",
       "&lt;li&gt;&lt;a href=&quot;/&quot;&gt;Random joke&lt;/a&gt;&lt;/li&gt;\n",
       "&lt;li&gt;&lt;a href=&quot;/search&quot;&gt;Search jokes&lt;/a&gt;&lt;/li&gt;\n",
       "&lt;li&gt;&lt;a href=&quot;/submit&quot;&gt;Submit new joke&lt;/a&gt;&lt;/li&gt;\n",
       "&lt;/ul&gt;\n",
       "&lt;/aside&gt;\n",
       "&lt;/div&gt;\n",
       "&lt;/div&gt;\n",
       "&lt;/div&gt;\n",
       "&lt;/footer&gt;\n",
       "&lt;script data-cfasync=&quot;false&quot; src=&quot;/cdn-cgi/scripts/5c5dd728/cloudflare-static/email-decode.min.js&quot;&gt;&lt;/script&gt;&lt;script&gt;\n",
       "        (function(i,s,o,g,r,a,m){i[&#39;GoogleAnalyticsObject&#39;]=r;i[r]=i[r]||function(){\n",
       "        (i[r].q=i[r].q||[]).push(arguments)},i[r].l=1*new Date();a=s.createElement(o),\n",
       "        m=s.getElementsByTagName(o)[0];a.async=1;a.src=g;m.parentNode.insertBefore(a,m)\n",
       "        })(window,document,&#39;script&#39;,&#39;https://www.google-analytics.com/analytics.js&#39;,&#39;ga&#39;);\n",
       "\n",
       "        ga(&#39;create&#39;, &#39;UA-82372853-1&#39;, &#39;auto&#39;);\n",
       "        ga(&#39;send&#39;, &#39;pageview&#39;);\n",
       "        &lt;/script&gt;\n",
       "&lt;script&gt;\n",
       "      document.addEventListener(&#39;click&#39;, function (evt) {\n",
       "        if (evt.target.id === &#39;nav-toggle&#39; || evt.target.parent.id === &#39;nav-toggle&#39;) {\n",
       "          document.getElementById(&#39;nav-menu&#39;).classList.toggle(&#39;is-active&#39;);\n",
       "        }\n",
       "      });\n",
       "    &lt;/script&gt;\n",
       "\n",
       "&lt;script type=&quot;text/javascript&quot;&gt;\n",
       "      /* &lt;![CDATA[ */\n",
       "      var google_conversion_id = 855658655;\n",
       "      var google_conversion_language = &quot;en&quot;;\n",
       "      var google_conversion_format = &quot;3&quot;;\n",
       "      var google_conversion_color = &quot;ffffff&quot;;\n",
       "      var google_conversion_label = &quot;gdOKCMjzmHAQn6GBmAM&quot;;\n",
       "      var google_remarketing_only = false;\n",
       "      /* ]]&gt; */\n",
       "    &lt;/script&gt;\n",
       "&lt;script type=&quot;text/javascript&quot; src=&quot;//www.googleadservices.com/pagead/conversion.js&quot;&gt;&lt;/script&gt;\n",
       "&lt;noscript&gt;\n",
       "      &lt;div style=&quot;display:inline;&quot;&gt;\n",
       "        &lt;img height=&quot;1&quot; width=&quot;1&quot; style=&quot;border-style:none;&quot; alt=&quot;&quot; src=&quot;//www.googleadservices.com/pagead/conversion/855658655/?label=gdOKCMjzmHAQn6GBmAM&amp;amp;guid=ON&amp;amp;script=0&quot;/&gt;\n",
       "      &lt;/div&gt;\n",
       "    &lt;/noscript&gt;\n",
       "&lt;/body&gt;\n",
       "&lt;/html&gt;</pre>\n"
      ]
     },
     "metadata": {},
     "output_type": "display_data"
    }
   ],
   "source": [
    "Invoke-RestMethod -Uri 'https://icanhazdadjoke.com'"
   ]
  },
  {
   "cell_type": "markdown",
   "metadata": {},
   "source": [
    "## Lets Look at the Properties returned"
   ]
  },
  {
   "cell_type": "code",
   "execution_count": 2,
   "metadata": {},
   "outputs": [
    {
     "data": {
      "text/html": [
       "<pre></pre>\n"
      ]
     },
     "metadata": {},
     "output_type": "display_data"
    },
    {
     "data": {
      "text/html": [
       "<pre></pre>\n"
      ]
     },
     "metadata": {},
     "output_type": "display_data"
    },
    {
     "data": {
      "text/html": [
       "<pre>   TypeName: System.String</pre>\n"
      ]
     },
     "metadata": {},
     "output_type": "display_data"
    },
    {
     "data": {
      "text/html": [
       "<pre></pre>\n"
      ]
     },
     "metadata": {},
     "output_type": "display_data"
    },
    {
     "data": {
      "text/html": [
       "<pre>Name                 MemberType            Definition</pre>\n"
      ]
     },
     "metadata": {},
     "output_type": "display_data"
    },
    {
     "data": {
      "text/html": [
       "<pre>----                 ----------            ----------</pre>\n"
      ]
     },
     "metadata": {},
     "output_type": "display_data"
    },
    {
     "data": {
      "text/html": [
       "<pre>Clone                Method                System.Object Clone(), System.Object ICloneable.Clone()</pre>\n"
      ]
     },
     "metadata": {},
     "output_type": "display_data"
    },
    {
     "data": {
      "text/html": [
       "<pre>CompareTo            Method                int CompareTo(System.Object value), int CompareTo(string strB), int ICompara…</pre>\n"
      ]
     },
     "metadata": {},
     "output_type": "display_data"
    },
    {
     "data": {
      "text/html": [
       "<pre>Contains             Method                bool Contains(string value), bool Contains(string value, System.StringCompar…</pre>\n"
      ]
     },
     "metadata": {},
     "output_type": "display_data"
    },
    {
     "data": {
      "text/html": [
       "<pre>CopyTo               Method                void CopyTo(int sourceIndex, char[] destination, int destinationIndex, int c…</pre>\n"
      ]
     },
     "metadata": {},
     "output_type": "display_data"
    },
    {
     "data": {
      "text/html": [
       "<pre>EndsWith             Method                bool EndsWith(string value), bool EndsWith(string value, System.StringCompar…</pre>\n"
      ]
     },
     "metadata": {},
     "output_type": "display_data"
    },
    {
     "data": {
      "text/html": [
       "<pre>EnumerateRunes       Method                System.Text.StringRuneEnumerator EnumerateRunes()</pre>\n"
      ]
     },
     "metadata": {},
     "output_type": "display_data"
    },
    {
     "data": {
      "text/html": [
       "<pre>Equals               Method                bool Equals(System.Object obj), bool Equals(string value), bool Equals(strin…</pre>\n"
      ]
     },
     "metadata": {},
     "output_type": "display_data"
    },
    {
     "data": {
      "text/html": [
       "<pre>GetEnumerator        Method                System.CharEnumerator GetEnumerator(), System.Collections.IEnumerator IEnume…</pre>\n"
      ]
     },
     "metadata": {},
     "output_type": "display_data"
    },
    {
     "data": {
      "text/html": [
       "<pre>GetHashCode          Method                int GetHashCode(), int GetHashCode(System.StringComparison comparisonType)</pre>\n"
      ]
     },
     "metadata": {},
     "output_type": "display_data"
    },
    {
     "data": {
      "text/html": [
       "<pre>GetPinnableReference Method                System.Char&amp;, System.Private.CoreLib, Version=4.0.0.0, Culture=neutral, Publ…</pre>\n"
      ]
     },
     "metadata": {},
     "output_type": "display_data"
    },
    {
     "data": {
      "text/html": [
       "<pre>GetType              Method                type GetType()</pre>\n"
      ]
     },
     "metadata": {},
     "output_type": "display_data"
    },
    {
     "data": {
      "text/html": [
       "<pre>GetTypeCode          Method                System.TypeCode GetTypeCode(), System.TypeCode IConvertible.GetTypeCode()</pre>\n"
      ]
     },
     "metadata": {},
     "output_type": "display_data"
    },
    {
     "data": {
      "text/html": [
       "<pre>IndexOf              Method                int IndexOf(char value), int IndexOf(char value, int startIndex), int IndexO…</pre>\n"
      ]
     },
     "metadata": {},
     "output_type": "display_data"
    },
    {
     "data": {
      "text/html": [
       "<pre>IndexOfAny           Method                int IndexOfAny(char[] anyOf), int IndexOfAny(char[] anyOf, int startIndex), …</pre>\n"
      ]
     },
     "metadata": {},
     "output_type": "display_data"
    },
    {
     "data": {
      "text/html": [
       "<pre>Insert               Method                string Insert(int startIndex, string value)</pre>\n"
      ]
     },
     "metadata": {},
     "output_type": "display_data"
    },
    {
     "data": {
      "text/html": [
       "<pre>IsNormalized         Method                bool IsNormalized(), bool IsNormalized(System.Text.NormalizationForm normali…</pre>\n"
      ]
     },
     "metadata": {},
     "output_type": "display_data"
    },
    {
     "data": {
      "text/html": [
       "<pre>LastIndexOf          Method                int LastIndexOf(char value), int LastIndexOf(char value, int startIndex), in…</pre>\n"
      ]
     },
     "metadata": {},
     "output_type": "display_data"
    },
    {
     "data": {
      "text/html": [
       "<pre>LastIndexOfAny       Method                int LastIndexOfAny(char[] anyOf), int LastIndexOfAny(char[] anyOf, int start…</pre>\n"
      ]
     },
     "metadata": {},
     "output_type": "display_data"
    },
    {
     "data": {
      "text/html": [
       "<pre>Normalize            Method                string Normalize(), string Normalize(System.Text.NormalizationForm normaliza…</pre>\n"
      ]
     },
     "metadata": {},
     "output_type": "display_data"
    },
    {
     "data": {
      "text/html": [
       "<pre>PadLeft              Method                string PadLeft(int totalWidth), string PadLeft(int totalWidth, char paddingC…</pre>\n"
      ]
     },
     "metadata": {},
     "output_type": "display_data"
    },
    {
     "data": {
      "text/html": [
       "<pre>PadRight             Method                string PadRight(int totalWidth), string PadRight(int totalWidth, char paddin…</pre>\n"
      ]
     },
     "metadata": {},
     "output_type": "display_data"
    },
    {
     "data": {
      "text/html": [
       "<pre>Remove               Method                string Remove(int startIndex, int count), string Remove(int startIndex)</pre>\n"
      ]
     },
     "metadata": {},
     "output_type": "display_data"
    },
    {
     "data": {
      "text/html": [
       "<pre>Replace              Method                string Replace(char oldChar, char newChar), string Replace(string oldValue, …</pre>\n"
      ]
     },
     "metadata": {},
     "output_type": "display_data"
    },
    {
     "data": {
      "text/html": [
       "<pre>Split                Method                string[] Split(char separator, System.StringSplitOptions options), string[] …</pre>\n"
      ]
     },
     "metadata": {},
     "output_type": "display_data"
    },
    {
     "data": {
      "text/html": [
       "<pre>StartsWith           Method                bool StartsWith(string value), bool StartsWith(string value, System.StringCo…</pre>\n"
      ]
     },
     "metadata": {},
     "output_type": "display_data"
    },
    {
     "data": {
      "text/html": [
       "<pre>Substring            Method                string Substring(int startIndex), string Substring(int startIndex, int lengt…</pre>\n"
      ]
     },
     "metadata": {},
     "output_type": "display_data"
    },
    {
     "data": {
      "text/html": [
       "<pre>ToBoolean            Method                bool IConvertible.ToBoolean(System.IFormatProvider provider)</pre>\n"
      ]
     },
     "metadata": {},
     "output_type": "display_data"
    },
    {
     "data": {
      "text/html": [
       "<pre>ToByte               Method                byte IConvertible.ToByte(System.IFormatProvider provider)</pre>\n"
      ]
     },
     "metadata": {},
     "output_type": "display_data"
    },
    {
     "data": {
      "text/html": [
       "<pre>ToChar               Method                char IConvertible.ToChar(System.IFormatProvider provider)</pre>\n"
      ]
     },
     "metadata": {},
     "output_type": "display_data"
    },
    {
     "data": {
      "text/html": [
       "<pre>ToCharArray          Method                char[] ToCharArray(), char[] ToCharArray(int startIndex, int length)</pre>\n"
      ]
     },
     "metadata": {},
     "output_type": "display_data"
    },
    {
     "data": {
      "text/html": [
       "<pre>ToDateTime           Method                datetime IConvertible.ToDateTime(System.IFormatProvider provider)</pre>\n"
      ]
     },
     "metadata": {},
     "output_type": "display_data"
    },
    {
     "data": {
      "text/html": [
       "<pre>ToDecimal            Method                decimal IConvertible.ToDecimal(System.IFormatProvider provider)</pre>\n"
      ]
     },
     "metadata": {},
     "output_type": "display_data"
    },
    {
     "data": {
      "text/html": [
       "<pre>ToDouble             Method                double IConvertible.ToDouble(System.IFormatProvider provider)</pre>\n"
      ]
     },
     "metadata": {},
     "output_type": "display_data"
    },
    {
     "data": {
      "text/html": [
       "<pre>ToInt16              Method                short IConvertible.ToInt16(System.IFormatProvider provider)</pre>\n"
      ]
     },
     "metadata": {},
     "output_type": "display_data"
    },
    {
     "data": {
      "text/html": [
       "<pre>ToInt32              Method                int IConvertible.ToInt32(System.IFormatProvider provider)</pre>\n"
      ]
     },
     "metadata": {},
     "output_type": "display_data"
    },
    {
     "data": {
      "text/html": [
       "<pre>ToInt64              Method                long IConvertible.ToInt64(System.IFormatProvider provider)</pre>\n"
      ]
     },
     "metadata": {},
     "output_type": "display_data"
    },
    {
     "data": {
      "text/html": [
       "<pre>ToLower              Method                string ToLower(), string ToLower(cultureinfo culture)</pre>\n"
      ]
     },
     "metadata": {},
     "output_type": "display_data"
    },
    {
     "data": {
      "text/html": [
       "<pre>ToLowerInvariant     Method                string ToLowerInvariant()</pre>\n"
      ]
     },
     "metadata": {},
     "output_type": "display_data"
    },
    {
     "data": {
      "text/html": [
       "<pre>ToSByte              Method                sbyte IConvertible.ToSByte(System.IFormatProvider provider)</pre>\n"
      ]
     },
     "metadata": {},
     "output_type": "display_data"
    },
    {
     "data": {
      "text/html": [
       "<pre>ToSingle             Method                float IConvertible.ToSingle(System.IFormatProvider provider)</pre>\n"
      ]
     },
     "metadata": {},
     "output_type": "display_data"
    },
    {
     "data": {
      "text/html": [
       "<pre>ToString             Method                string ToString(), string ToString(System.IFormatProvider provider), string …</pre>\n"
      ]
     },
     "metadata": {},
     "output_type": "display_data"
    },
    {
     "data": {
      "text/html": [
       "<pre>ToType               Method                System.Object IConvertible.ToType(type conversionType, System.IFormatProvide…</pre>\n"
      ]
     },
     "metadata": {},
     "output_type": "display_data"
    },
    {
     "data": {
      "text/html": [
       "<pre>ToUInt16             Method                ushort IConvertible.ToUInt16(System.IFormatProvider provider)</pre>\n"
      ]
     },
     "metadata": {},
     "output_type": "display_data"
    },
    {
     "data": {
      "text/html": [
       "<pre>ToUInt32             Method                uint IConvertible.ToUInt32(System.IFormatProvider provider)</pre>\n"
      ]
     },
     "metadata": {},
     "output_type": "display_data"
    },
    {
     "data": {
      "text/html": [
       "<pre>ToUInt64             Method                ulong IConvertible.ToUInt64(System.IFormatProvider provider)</pre>\n"
      ]
     },
     "metadata": {},
     "output_type": "display_data"
    },
    {
     "data": {
      "text/html": [
       "<pre>ToUpper              Method                string ToUpper(), string ToUpper(cultureinfo culture)</pre>\n"
      ]
     },
     "metadata": {},
     "output_type": "display_data"
    },
    {
     "data": {
      "text/html": [
       "<pre>ToUpperInvariant     Method                string ToUpperInvariant()</pre>\n"
      ]
     },
     "metadata": {},
     "output_type": "display_data"
    },
    {
     "data": {
      "text/html": [
       "<pre>Trim                 Method                string Trim(), string Trim(char trimChar), string Trim(Params char[] trimCha…</pre>\n"
      ]
     },
     "metadata": {},
     "output_type": "display_data"
    },
    {
     "data": {
      "text/html": [
       "<pre>TrimEnd              Method                string TrimEnd(), string TrimEnd(char trimChar), string TrimEnd(Params char[…</pre>\n"
      ]
     },
     "metadata": {},
     "output_type": "display_data"
    },
    {
     "data": {
      "text/html": [
       "<pre>TrimStart            Method                string TrimStart(), string TrimStart(char trimChar), string TrimStart(Params…</pre>\n"
      ]
     },
     "metadata": {},
     "output_type": "display_data"
    },
    {
     "data": {
      "text/html": [
       "<pre>Chars                ParameterizedProperty char Chars(int index) {get;}</pre>\n"
      ]
     },
     "metadata": {},
     "output_type": "display_data"
    },
    {
     "data": {
      "text/html": [
       "<pre>Length               Property              int Length {get;}</pre>\n"
      ]
     },
     "metadata": {},
     "output_type": "display_data"
    },
    {
     "data": {
      "text/html": [
       "<pre></pre>\n"
      ]
     },
     "metadata": {},
     "output_type": "display_data"
    }
   ],
   "source": [
    "Invoke-RestMethod -Uri 'https://icanhazdadjoke.com' | gm"
   ]
  },
  {
   "cell_type": "markdown",
   "metadata": {},
   "source": [
    "## We see that it returned a very long string.  That isn't what we expected.  Perhaps we can alter our call a little using Request Headers"
   ]
  },
  {
   "cell_type": "markdown",
   "metadata": {},
   "source": [
    "### Request Headers allow us to send extra data to the web enpoint.  These can alter what we get returned to us.  We can use this to filter what gets returned or change the data type.  In this instance, we would prefer to get just the joke data instead of the entire website with a joke buried somewhere in it."
   ]
  },
  {
   "cell_type": "markdown",
   "metadata": {},
   "source": [
    "https://icanhazdadjoke.com/api"
   ]
  },
  {
   "cell_type": "code",
   "execution_count": 3,
   "metadata": {},
   "outputs": [],
   "source": [
    "$Headers = @{'Accept' = 'application/json'}"
   ]
  },
  {
   "cell_type": "markdown",
   "metadata": {},
   "source": [
    "## Let's take a quick look at what we are going to send"
   ]
  },
  {
   "cell_type": "code",
   "execution_count": 4,
   "metadata": {},
   "outputs": [
    {
     "data": {
      "text/html": [
       "<pre></pre>\n"
      ]
     },
     "metadata": {},
     "output_type": "display_data"
    },
    {
     "data": {
      "text/html": [
       "<pre>Name                           Value</pre>\n"
      ]
     },
     "metadata": {},
     "output_type": "display_data"
    },
    {
     "data": {
      "text/html": [
       "<pre>----                           -----</pre>\n"
      ]
     },
     "metadata": {},
     "output_type": "display_data"
    },
    {
     "data": {
      "text/html": [
       "<pre>Accept                         application/json</pre>\n"
      ]
     },
     "metadata": {},
     "output_type": "display_data"
    },
    {
     "data": {
      "text/html": [
       "<pre></pre>\n"
      ]
     },
     "metadata": {},
     "output_type": "display_data"
    }
   ],
   "source": [
    "$Headers"
   ]
  },
  {
   "cell_type": "markdown",
   "metadata": {},
   "source": [
    "## Now we can make another Invoke-RestMethod using our new header"
   ]
  },
  {
   "cell_type": "code",
   "execution_count": 5,
   "metadata": {},
   "outputs": [
    {
     "data": {
      "text/html": [
       "<pre></pre>\n"
      ]
     },
     "metadata": {},
     "output_type": "display_data"
    },
    {
     "data": {
      "text/html": [
       "<pre>id          joke                                                                    status</pre>\n"
      ]
     },
     "metadata": {},
     "output_type": "display_data"
    },
    {
     "data": {
      "text/html": [
       "<pre>--          ----                                                                    ------</pre>\n"
      ]
     },
     "metadata": {},
     "output_type": "display_data"
    },
    {
     "data": {
      "text/html": [
       "<pre>rcxk3TSKusc What did the grape do when he got stepped on? He let out a little wine.    200</pre>\n"
      ]
     },
     "metadata": {},
     "output_type": "display_data"
    },
    {
     "data": {
      "text/html": [
       "<pre></pre>\n"
      ]
     },
     "metadata": {},
     "output_type": "display_data"
    }
   ],
   "source": [
    "Invoke-RestMethod -Uri 'https://icanhazdadjoke.com' -Headers $Headers"
   ]
  },
  {
   "cell_type": "markdown",
   "metadata": {},
   "source": [
    "## This looks a lot better than what we got earlier.  Let's take a look at it's Get-Member"
   ]
  },
  {
   "cell_type": "code",
   "execution_count": 6,
   "metadata": {},
   "outputs": [
    {
     "data": {
      "text/html": [
       "<pre></pre>\n"
      ]
     },
     "metadata": {},
     "output_type": "display_data"
    },
    {
     "data": {
      "text/html": [
       "<pre></pre>\n"
      ]
     },
     "metadata": {},
     "output_type": "display_data"
    },
    {
     "data": {
      "text/html": [
       "<pre>   TypeName: System.Management.Automation.PSCustomObject</pre>\n"
      ]
     },
     "metadata": {},
     "output_type": "display_data"
    },
    {
     "data": {
      "text/html": [
       "<pre></pre>\n"
      ]
     },
     "metadata": {},
     "output_type": "display_data"
    },
    {
     "data": {
      "text/html": [
       "<pre>Name        MemberType   Definition</pre>\n"
      ]
     },
     "metadata": {},
     "output_type": "display_data"
    },
    {
     "data": {
      "text/html": [
       "<pre>----        ----------   ----------</pre>\n"
      ]
     },
     "metadata": {},
     "output_type": "display_data"
    },
    {
     "data": {
      "text/html": [
       "<pre>Equals      Method       bool Equals(System.Object obj)</pre>\n"
      ]
     },
     "metadata": {},
     "output_type": "display_data"
    },
    {
     "data": {
      "text/html": [
       "<pre>GetHashCode Method       int GetHashCode()</pre>\n"
      ]
     },
     "metadata": {},
     "output_type": "display_data"
    },
    {
     "data": {
      "text/html": [
       "<pre>GetType     Method       type GetType()</pre>\n"
      ]
     },
     "metadata": {},
     "output_type": "display_data"
    },
    {
     "data": {
      "text/html": [
       "<pre>ToString    Method       string ToString()</pre>\n"
      ]
     },
     "metadata": {},
     "output_type": "display_data"
    },
    {
     "data": {
      "text/html": [
       "<pre>id          NoteProperty string id=LB5wHQSvzAd</pre>\n"
      ]
     },
     "metadata": {},
     "output_type": "display_data"
    },
    {
     "data": {
      "text/html": [
       "<pre>joke        NoteProperty string joke=Where was the Declaration of Independence signed?…</pre>\n"
      ]
     },
     "metadata": {},
     "output_type": "display_data"
    },
    {
     "data": {
      "text/html": [
       "<pre>status      NoteProperty long status=200</pre>\n"
      ]
     },
     "metadata": {},
     "output_type": "display_data"
    },
    {
     "data": {
      "text/html": [
       "<pre></pre>\n"
      ]
     },
     "metadata": {},
     "output_type": "display_data"
    }
   ],
   "source": [
    "Invoke-RestMethod -Uri 'https://icanhazdadjoke.com' -Headers $Headers | Get-Member"
   ]
  },
  {
   "cell_type": "markdown",
   "metadata": {},
   "source": [
    "## Store it in a variable and we can beging using the data as we are used to (with dot notation)"
   ]
  },
  {
   "cell_type": "code",
   "execution_count": 7,
   "metadata": {},
   "outputs": [
    {
     "data": {
      "text/html": [
       "<pre>I knew a guy who collected candy canes, they were all in mint condition</pre>\n"
      ]
     },
     "metadata": {},
     "output_type": "display_data"
    }
   ],
   "source": [
    "(Invoke-RestMethod -Uri 'https://icanhazdadjoke.com' -Headers $Headers).joke"
   ]
  },
  {
   "cell_type": "code",
   "execution_count": null,
   "metadata": {},
   "outputs": [],
   "source": []
  }
 ],
 "metadata": {
  "kernelspec": {
   "display_name": ".NET (PowerShell)",
   "language": "PowerShell",
   "name": ".net-powershell"
  },
  "language_info": {
   "file_extension": ".ps1",
   "mimetype": "text/x-powershell",
   "name": "PowerShell",
   "pygments_lexer": "powershell",
   "version": "7.0"
  }
 },
 "nbformat": 4,
 "nbformat_minor": 4
}
